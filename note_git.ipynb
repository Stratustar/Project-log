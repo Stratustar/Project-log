{
 "cells": [
  {
   "cell_type": "markdown",
   "metadata": {},
   "source": [
    "## git help\n",
    "用于查找某一方面的官方指南，比如查找git log相关的指南：\n",
    "\n",
    "git help log\n",
    "\n",
    "git help config\n",
    "\n",
    "显示当前文件夹/仓库状态\n",
    "\n",
    "git status"
   ]
  },
  {
   "cell_type": "markdown",
   "metadata": {},
   "source": [
    "## 忽略文件\n",
    "目录下新建.gitignore\n",
    "打开.gitignore，使用文本编辑，输入要忽略的文件，比如\n",
    "*.DS_Store\n",
    "这会忽略所有.DS_Store为后缀的文件"
   ]
  },
  {
   "cell_type": "markdown",
   "metadata": {},
   "source": [
    "## Track file & move to stage:  git add filename\n",
    " track& stage所有file:\n",
    "\n",
    "git add --all\n",
    "git add .\n",
    "git add -A\n",
    "\n",
    "add file后，做了两件事：\n",
    "1. 将文件track，git可以记录更改\n",
    "2. 将文件当前状态移到stage，可以提交。\n",
    "\n",
    "### unstaged 移除stage\n",
    "\n",
    "git restore --staged filename\n",
    "\n",
    "文件移出stage区域，但仍然track\n",
    "\n",
    "git rm --cached filename\n",
    "\n",
    "停止track文件"
   ]
  },
  {
   "cell_type": "markdown",
   "metadata": {},
   "source": [
    "## 删除文件\n",
    "\n",
    "git rm filename\n",
    "\n",
    "或直接删除文件"
   ]
  },
  {
   "cell_type": "markdown",
   "metadata": {},
   "source": [
    "## git commit -m \"text\"\n",
    "提交当前目录的状态到“历史记录”，作为一个快照\n",
    "\n",
    "git commit -m \"text2\" --amend\n",
    "这个命令可以修改最近一次提交的版本，而不用创建一个新的版本。\n",
    "\n",
    "快捷commit\n",
    "\n",
    "git commit -a -m \"text\"\n",
    "\n",
    "快捷提交所有以追踪文件的当前状态，包含了add和commit"
   ]
  },
  {
   "cell_type": "markdown",
   "metadata": {},
   "source": [
    "## 查看历史提交信息\n",
    "\n",
    "git log\n",
    "\n",
    "git log --oneline\n",
    "\n",
    "精简版历史\n",
    "\n",
    "git log开头会有一串hash tag,用于标记版本"
   ]
  },
  {
   "cell_type": "markdown",
   "metadata": {},
   "source": [
    "## 回退版本\n",
    "\n",
    "git reset **hashtag**\n",
    "\n",
    "回退到hashtag对应的版本"
   ]
  },
  {
   "cell_type": "markdown",
   "metadata": {},
   "source": [
    "## branch\n",
    "\n",
    "创建新的branch，相当于创建了当前branch的一个副本。之后在新的branch工作，不会影响到main branch。\n",
    "\n",
    "比如，可以在另一个branch开发版本或者debug，完成了之后在merge回main。\n",
    "\n",
    "### 创建新branch\n",
    "\n",
    "git branch **branchname**\n",
    "\n",
    "### 移动到其他branch\n",
    "\n",
    "git switch **branchname**\n",
    "\n",
    "然后目录中的文件会变为新的branch的\n",
    "\n",
    "### 查看所有branch和当前branch：\n",
    "\n",
    "git branch\n",
    "\n",
    "当前branch前面会有一个*\n",
    "\n",
    "### merge branch\n",
    "把其他branch更新到**当前branch**, 注意：这只会同步**更改**，两者的更改不可以冲突\n",
    "\n",
    "git merge -m \"text\" branchname\n",
    "\n",
    "如果branch之间又冲突，比如对同一个文件的同一部分有不同修改，则会标出冲突，等到结局后才可以merge\n",
    "\n",
    "### delete branch\n",
    "\n",
    "git branch -d **branchname**\n"
   ]
  },
  {
   "cell_type": "markdown",
   "metadata": {},
   "source": [
    "## 关联 github\n",
    "\n",
    "在`user/.ssh`下有`id_rsa`和`id_rsa.pub`, id_rsa是公钥\n",
    "在github中，添加ssh，把id_rsa内容添加，可以远程关联仓库\n"
   ]
  },
  {
   "cell_type": "markdown",
   "metadata": {},
   "source": []
  }
 ],
 "metadata": {
  "language_info": {
   "name": "python"
  }
 },
 "nbformat": 4,
 "nbformat_minor": 2
}
